{
 "nbformat": 4,
 "nbformat_minor": 0,
 "metadata": {
  "colab": {
   "provenance": []
  },
  "kernelspec": {
   "name": "python3",
   "language": "python",
   "display_name": "Python 3 (ipykernel)"
  },
  "language_info": {
   "name": "python"
  }
 },
 "cells": [
  {
   "cell_type": "markdown",
   "source": [
    "Warning:\n",
    "\n",
    "After each exercise from now on, do a git commit and write in a message what you did."
   ],
   "metadata": {
    "id": "vWgiVDOhNaoM"
   }
  },
  {
   "cell_type": "markdown",
   "source": [
    "3.\n",
    "Write a Python program that takes input from the user to create a list of integers and then performs the following operations:\n",
    "\n",
    "  a. Input: Ask the user to enter a series of space-separated integers.\n",
    "\n",
    "  b. Convert Input: Convert the input string into a list of integers.\n",
    "  \n",
    "  c. Sorting: Sort the list in ascending order.\n",
    "\n",
    "  example:\n",
    "  ```\n",
    "  Enter a series of space-separated integers: 5 2 8 1 9\n",
    "\n",
    "  Sorted list: [1, 2, 5, 8, 9]\n",
    "  ```\n"
   ],
   "metadata": {
    "id": "PspxMdWBgq0E"
   }
  },
  {
   "cell_type": "code",
   "source": [
    "# Input\n",
    "input_numbers = input(\"Enter a series of space-separated integers: \")\n",
    "\n",
    "# Convert Input:\n",
    "numbers_list = [int(x) for x in input_numbers.split()]\n",
    "\n",
    "# Sorting:\n",
    "numbers_list.sort()\n",
    "\n",
    "# Print Output\n",
    "print(\"Sorted list:\", numbers_list)"
   ],
   "metadata": {
    "id": "AI_-8VGKh7rA",
    "ExecuteTime": {
     "end_time": "2024-03-11T13:43:03.651357Z",
     "start_time": "2024-03-11T13:42:51.733798Z"
    }
   },
   "execution_count": 3,
   "outputs": [
    {
     "name": "stdout",
     "output_type": "stream",
     "text": [
      "Sorted list: [1, 3, 4, 4, 5, 5, 16]\n"
     ]
    }
   ]
  },
  {
   "cell_type": "markdown",
   "source": [
    "-----------------------------------------------------------------------------\n",
    "\n",
    "Difference between Lists and Tuples:\n",
    "\n",
    "Lists are mutable, meaning their elements can be changed after creation, while tuples are immutable, meaning their elements cannot be changed after creation.\n",
    "Lists are represented by square brackets [ ], whereas tuples are represented by parentheses ( ).\n",
    "Lists have methods like append(), insert(), and remove() to modify the list, while tuples do not support such methods due to their immutability.\n",
    "Lists are typically used when the elements need to be modified or updated frequently, while tuples are used when the data is meant to be constant or unchangeable.\n",
    "\n",
    "-----------------------------------------------------------------------------\n"
   ],
   "metadata": {
    "id": "i3SZ_u9yl9aa"
   }
  },
  {
   "cell_type": "markdown",
   "source": [
    "4.\n",
    "Extend the previous Python program to include tuples. Now, in addition to creating a list of integers from user input, the program should also create a tuple of those integers and perform the following operations:\n",
    "\n",
    "  a. Input: Ask the user to enter a series of space-separated integers.\n",
    "\n",
    "  b. Convert Input: Convert the input string into a list of integers and a tuple of integers.\n",
    "\n",
    "  c. Sorting: Sort both the list and the tuple in ascending order.\n",
    "\n",
    "  d. Print Output: Print the sorted list and tuple.\n",
    "\n",
    "  example:\n",
    "  ```\n",
    "  Enter a series of space-separated integers: 5 2 8 1 9\n",
    "  \n",
    "  Sorted list: [1, 2, 5, 8, 9]\n",
    "  Sorted tuple: (1, 2, 5, 8, 9)\n",
    "  ```\n"
   ],
   "metadata": {
    "id": "s3dGdHFnmHGE"
   }
  },
  {
   "cell_type": "code",
   "source": [
    "# Input\n",
    "input_numbers = input(\"Enter a series of space-separated integers: \")\n",
    "\n",
    "# Convert Input:\n",
    "numbers_list = [int(x) for x in input_numbers.split()]\n",
    "numbers_tuple = tuple(numbers_list)\n",
    "\n",
    "# Sorting:\n",
    "numbers_list.sort()\n",
    "sorted_tuple = tuple(sorted(numbers_list))\n",
    "\n",
    "# Print Output\n",
    "print(\"Sorted list:\", numbers_list)\n",
    "print(\"Sorted tuple:\", sorted_tuple)"
   ],
   "metadata": {
    "id": "5hm5uHjjl-wZ",
    "ExecuteTime": {
     "end_time": "2024-03-11T13:46:16.873764Z",
     "start_time": "2024-03-11T13:46:03.400476Z"
    }
   },
   "execution_count": 4,
   "outputs": [
    {
     "name": "stdout",
     "output_type": "stream",
     "text": [
      "Sorted list: [0, 2, 5, 9, 10, 21, 27, 67]\n",
      "Sorted tuple: (0, 2, 5, 9, 10, 21, 27, 67)\n"
     ]
    }
   ]
  },
  {
   "cell_type": "markdown",
   "source": [
    "5.\n",
    "Extend the previous Python program to demonstrate the manipulation of lists using the append(), insert(), and remove() functions, and to emphasize the immutability of tuples.\n",
    "\n",
    "  a. Input: Ask the user to enter a series of space-separated integers.\n",
    "\n",
    "  b. Convert Input: Convert the input string into a list of integers and a tuple of integers.\n",
    "  \n",
    "  c. Manipulate List: Use the append(), insert(), and remove() functions to modify the list.\n",
    "  \n",
    "  d. Attempt to Modify Tuple: Try to modify the tuple using the same operations as the list.\n",
    "  \n",
    "  e. Print Output: Print the modified list and attempt to print the modified tuple.\n",
    "\n",
    "  example:\n",
    "  ```\n",
    "  Enter a series of space-separated integers: 5 2 8 1 9\n",
    "\n",
    "  Tuples are immutable and cannot be modified.\n",
    "  Modified list: [5, 2, 20, 1, 9, 10]\n",
    "  Tuple remains unchanged: (5, 2, 8, 1, 9)\n",
    "  ```"
   ],
   "metadata": {
    "id": "ys8cK-cdqIk7"
   }
  },
  {
   "cell_type": "code",
   "source": [
    "# Input\n",
    "input_numbers = input(\"Enter a series of space-separated integers: \")\n",
    "\n",
    "# Convert Input\n",
    "numbers_list = [int(x) for x in input_numbers.split()]\n",
    "numbers_tuple = tuple(numbers_list)\n",
    "\n",
    "# Manipulate List\n",
    "numbers_list.append(10)    #   Append 10 to the list\n",
    "numbers_list.insert(2, 20) #   Insert 20 at index 2\n",
    "numbers_list.remove(20)    #   Remove one element from the list\n",
    "\n",
    "# Attempt to Modify Tuple (this will raise an error)\n",
    "try:\n",
    "  numbers_tuple.append(10)   #   Append 10 to the tuple\n",
    "except AttributeError:\n",
    "    print(\"Tuples are immutable and cannot be modified.\")\n",
    "try:\n",
    "  numbers_tuple.insert(2, 20)  #   Insert 20 at index 2\n",
    "except AttributeError:\n",
    "    pass  # Insert operation will also raise an error\n",
    "try:\n",
    "    numbers_tuple.remove(20) #   Remove one element  from the tuple\n",
    "except AttributeError:\n",
    "    pass  # Remove operation will also raise an error\n",
    "\n",
    "# Print Output\n",
    "print(\"Modified list:\", numbers_list)\n",
    "print(\"Tuple remains unchanged:\", numbers_tuple)"
   ],
   "metadata": {
    "id": "u8ATNzGWqT0H",
    "ExecuteTime": {
     "end_time": "2024-03-11T13:55:54.344082Z",
     "start_time": "2024-03-11T13:55:45.062434Z"
    }
   },
   "execution_count": 7,
   "outputs": [
    {
     "name": "stdout",
     "output_type": "stream",
     "text": [
      "Tuples are immutable and cannot be modified.\n",
      "Modified list: [10, 27, 28, 29, 40, 10]\n",
      "Tuple remains unchanged: (10, 27, 28, 29, 40)\n"
     ]
    }
   ]
  },
  {
   "cell_type": "markdown",
   "source": [
    "--------------------------------------------------------------------------------\n",
    "1. **Set**:\n",
    "A set in Python is a collection of unique elements that are unordered. This means that you cannot access elements by indices, and the elements are stored in an unordered manner. The main feature of a set is that each element in the set must be unique. Sets are useful when you want to perform set operations, such as mathematical set operations (e.g., union, difference, intersection).\n",
    "\n",
    "Example of creating a set:\n",
    "```python\n",
    "set = {1, 2, 3, 4, 5}  # Creating a set\n",
    "print(set)  # Displaying the set\n",
    "```\n",
    "\n",
    "2. **Dictionary**:\n",
    "A dictionary in Python is a collection of key-value pairs, where each key is unique. Dictionaries are unique in the sense that they allow us to associate specific values with specific keys, making it easy to retrieve values by referring to their corresponding keys. Dictionaries are very useful when you want to store data in the form of key-value pairs, such as dictionary definitions, test scores, survey results, etc.\n",
    "\n",
    "Example of creating a dictionary:\n",
    "```python\n",
    "dictionary = {\"key1\": \"value1\", \"key2\": \"value2\", \"key3\": \"value3\"}  # Creating a dictionary\n",
    "print(dictionary)  # Displaying the dictionary\n",
    "```\n",
    "It's important to remember that both in sets and dictionaries, keys (in the case of dictionaries) and elements (in the case of sets) must be hashable, meaning they must be immutable (e.g., numbers, strings, tuples), and they must have a defined hashing method.\n",
    "\n",
    "--------------------------------------------------------------------------------"
   ],
   "metadata": {
    "id": "IMGqb8VoxwOv"
   }
  },
  {
   "cell_type": "markdown",
   "source": [
    "6.\n",
    "Additionally, introduce sets and dictionaries and perform basic operations on them.\n",
    "\n",
    "  a. ...\n",
    "\n",
    "  b. ...\n",
    "\n",
    "  c. ...\n",
    "\n",
    "  d. ...\n",
    "\n",
    "  e. Set Operations: Perform union, intersection, and difference operations on the set.\n",
    "\n",
    "  f. Dictionary Operations: Print the dictionary, add a new key-value pair, and delete an existing key-value pair.\n",
    "\n",
    "  g. Print Output: Print the modified list, unchanged tuple, set operations results, and updated dictionary.\n",
    "\n",
    "  example:\n",
    "  ```\n",
    "  Enter a series of space-separated integers: 5 2 8 1 9\n",
    "\n",
    "  Tuples are immutable and cannot be modified.\n",
    "  Original Dictionary: {5: 25, 2: 4, 8: 64, 1: 1, 9: 81}\n",
    "  Modified list: [5, 2, 20, 1, 9, 10]\n",
    "  Tuple remains unchanged: (5, 2, 8, 1, 9)\n",
    "  Union of set: {1, 2, 5, 9, 10, 11, 12}\n",
    "  Intersection of set: {8, 5}\n",
    "  Difference of set: {9}\n",
    "  Updated Dictionary: {5: 25, 2: 4, 1: 1, 9: 81, 11: 121}\n",
    "\n",
    "  ```\n",
    "\n"
   ],
   "metadata": {
    "id": "PD4Fhykxx1w6"
   }
  },
  {
   "cell_type": "code",
   "source": [
    "# Input\n",
    "input_numbers = input(\"Enter a series of space-separated integers: \")\n",
    "\n",
    "# Convert Input\n",
    "numbers_list = [int(x) for x in input_numbers.split()]\n",
    "numbers_tuple = tuple(list)\n",
    "# Manipulate List\n",
    "# Append 10 to the list\n",
    "numbers_list.append(10)\n",
    "# Insert 20 at index 2\n",
    "numbers_list.insert(2,20)\n",
    "# Remove the element 8\n",
    "numbers_list.remove(8)\n",
    "# Attempt to Modify Tuple (this will raise an error)\n",
    "try:\n",
    "    # Append 10 to the tuple\n",
    "   numbers_tuple.append(10)\n",
    "except AttributeError:\n",
    "    print(\"Tuples are immutable and cannot be modified.\")\n",
    "\n",
    "# Set Operations\n",
    "set1 = {1, 2, 5, 9, 10}\n",
    "set2 = {5, 8, 11, 12}\n",
    "# Union\n",
    "set_union = set1.union(set2)\n",
    "# Intersection\n",
    "set_intersection = set1.intersection(set2)\n",
    "# Difference\n",
    "set_difference = set1.difference(set2)\n",
    "\n",
    "# Dictionary Operations\n",
    "numbers_dict = {5: 25, 2: 4, 8: 64, 1: 1, 9: 81}\n",
    "print(\"Original Dictionary:\", numbers_dict)\n",
    "# Add a new key-value pair\n",
    "numbers_dict[11] = 121\n",
    "# Delete an existing key-value pair\n",
    "del numbers_dict[8]\n",
    "\n",
    "# Print Output\n",
    "print(\"Modified list:\", numbers_list)\n",
    "print(\"Tuple remains unchanged:\", numbers_tuple)\n",
    "print(\"Union of set:\", set_union)\n",
    "print(\"Intersection of set:\", set_intersection)\n",
    "print(\"Difference of set:\", set_difference)\n",
    "print(\"Updated Dictionary:\", numbers_dict)"
   ],
   "metadata": {
    "id": "AwRmtngJzAZI"
   },
   "execution_count": null,
   "outputs": []
  },
  {
   "cell_type": "markdown",
   "source": [
    "7. **Built-in Types and Type Conversion**\n",
    "\n",
    "  Extend the previous Python program to demonstrate the use of built-in types and type conversion. Perform the following operations:\n",
    "\n",
    "  a. ...\n",
    "\n",
    "  b. ...\n",
    "\n",
    "  c. ...\n",
    "\n",
    "  d. ...\n",
    "\n",
    "  e. ...\n",
    "\n",
    "  f. ...\n",
    "\n",
    "  g. Type Conversion: Convert the list to a tuple, set, and dictionary. Convert the tuple to a list, set, and dictionary. Convert the set to a list, tuple, and dictionary. Convert the dictionary to a list, tuple, and set.\n",
    "\n",
    "  h. Print Output: Print the results of the type conversion operations.\n",
    "\n",
    "  example:\n",
    "  ```\n",
    "  Enter a series of space-separated integers: 5 2 8 1 9\n",
    "\n",
    "  Tuples are immutable and cannot be modified.\n",
    "  Original Dictionary: {5: 25, 2: 4, 8: 64, 1: 1, 9: 81}\n",
    "  List to Tuple: (5, 2, 20, 1, 9, 10)\n",
    "  List to Set: {1, 2, 5, 9, 10, 20}\n",
    "  List to Dictionary: {5: 25, 2: 4, 20: 400, 1: 1, 9: 81, 10: 100}\n",
    "  Tuple to List: [5, 2, 8, 1, 9]\n",
    "  Tuple to Set: {1, 2, 5, 8, 9}\n",
    "  Tuple to Dictionary: {5: 25, 2: 4, 8: 64, 1: 1, 9: 81}\n",
    "  Set to List: [1, 2, 5, 9, 10, 20]\n",
    "  Set to Tuple: (1, 2, 5, 9, 10, 20)\n",
    "  Set to Dictionary: {1: 1, 2: 4, 5: 25, 9: 81, 10: 100, 20: 400}\n",
    "  Dictionary to List: [5, 2, 20, 1, 9, 10, 11]\n",
    "  Dictionary to Tuple: (5, 2, 20, 1, 9, 10, 11)\n",
    "  Dictionary to Set: {1, 2, 5, 9, 10, 11, 20}\n",
    "```"
   ],
   "metadata": {
    "id": "N0xlv8oD2aXa"
   }
  },
  {
   "cell_type": "code",
   "source": [
    "# Input\n",
    "input_numbers = input(\"Enter a series of space-separated integers: \")\n",
    "\n",
    "# Convert Input\n",
    "numbers_list = list(map(int, input_numbers.split()))\n",
    "numbers_tuple = tuple(numbers_list)\n",
    "# Manipulate List\n",
    "numbers_list.append(10)\n",
    "numbers_list.append(8)\n",
    "numbers_list.insert(2, 20)\n",
    "numbers_list.remove(8)\n",
    "# Attempt to Modify Tuple (this will raise an error)\n",
    "try:\n",
    "    numbers_tuple.append(10)\n",
    "except AttributeError:\n",
    "    print(\"Tuples are immutable and cannot be modified.\")\n",
    "\n",
    "set1 = {1, 2, 5, 9, 10}\n",
    "set2 = {5, 8, 11, 12}\n",
    "set_union = set1.union(set2)\n",
    "set_intersection = set1.intersection(set2)\n",
    "set_difference = set1.difference(set2)\n",
    "\n",
    "# Dictionary Operations\n",
    "numbers_dict = {5: 25, 2: 4, 8: 64, 1: 1, 9: 81}\n",
    "print(\"Original Dictionary:\", numbers_dict)\n",
    "# Add a new key-value pair\n",
    "numbers_dict[11] = 121\n",
    "# Delete an existing key-value pair\n",
    "del numbers_dict[8]\n",
    "\n",
    "# Type Conversion\n",
    "list_to_tuple = tuple(numbers_list)\n",
    "list_to_set = set(numbers_list)\n",
    "list_to_dict = dict(zip(numbers_list, [x**2 for x in numbers_list]))\n",
    "\n",
    "tuple_to_list = list(numbers_tuple)\n",
    "tuple_to_set = set(numbers_tuple)\n",
    "tuple_to_dict = dict(zip(numbers_tuple, [x**2 for x in numbers_tuple]))\n",
    "\n",
    "set_to_list = list(set_union)\n",
    "set_to_tuple = tuple(set_union)\n",
    "set_to_dict = dict(zip(set_union, [x**2 for x in set_union]))\n",
    "\n",
    "dict_to_list = list(numbers_dict.keys())\n",
    "dict_to_tuple = tuple(numbers_dict.keys())\n",
    "dict_to_set = set(numbers_dict.keys())\n",
    "# Print Output\n",
    "print(\"List to Tuple:\", list_to_tuple)\n",
    "print(\"List to Set:\", list_to_set)\n",
    "print(\"List to Dictionary:\", list_to_dict)\n",
    "print(\"Tuple to List:\", tuple_to_list)\n",
    "print(\"Tuple to Set:\", tuple_to_set)\n",
    "print(\"Tuple to Dictionary:\", tuple_to_dict)\n",
    "print(\"Set to List:\", set_to_list)\n",
    "print(\"Set to Tuple:\", set_to_tuple)\n",
    "print(\"Set to Dictionary:\", set_to_dict)\n",
    "print(\"Dictionary to List:\", dict_to_list)\n",
    "print(\"Dictionary to Tuple:\", dict_to_tuple)\n",
    "print(\"Dictionary to Set:\", dict_to_set)"
   ],
   "metadata": {
    "id": "-NzD4x_n31Rv",
    "ExecuteTime": {
     "end_time": "2024-03-13T18:06:52.357962Z",
     "start_time": "2024-03-13T18:06:47.735700Z"
    }
   },
   "execution_count": 7,
   "outputs": [
    {
     "name": "stdout",
     "output_type": "stream",
     "text": [
      "Tuples are immutable and cannot be modified.\n",
      "Original Dictionary: {5: 25, 2: 4, 8: 64, 1: 1, 9: 81}\n",
      "List to Tuple: (4, 5, 20, 6, 7, 10, 8)\n",
      "List to Set: {4, 5, 6, 7, 8, 10, 20}\n",
      "List to Dictionary: {4: 16, 5: 25, 20: 400, 6: 36, 7: 49, 10: 100, 8: 64}\n",
      "Tuple to List: [4, 5, 6, 7, 8]\n",
      "Tuple to Set: {4, 5, 6, 7, 8}\n",
      "Tuple to Dictionary: {4: 16, 5: 25, 6: 36, 7: 49, 8: 64}\n",
      "Set to List: [1, 2, 5, 8, 9, 10, 11, 12]\n",
      "Set to Tuple: (1, 2, 5, 8, 9, 10, 11, 12)\n",
      "Set to Dictionary: {1: 1, 2: 4, 5: 25, 8: 64, 9: 81, 10: 100, 11: 121, 12: 144}\n",
      "Dictionary to List: [5, 2, 1, 9, 11]\n",
      "Dictionary to Tuple: (5, 2, 1, 9, 11)\n",
      "Dictionary to Set: {1, 2, 5, 9, 11}\n"
     ]
    }
   ]
  },
  {
   "cell_type": "markdown",
   "source": [
    "8.\n",
    "Extend the previous Python program to write the output to a file and perform operations on that file.\n",
    "\n",
    "  a. ...\n",
    "\n",
    "  b. ...\n",
    "\n",
    "  c. ...\n",
    "\n",
    "  d. ...\n",
    "\n",
    "  e. ...\n",
    "\n",
    "  f. ...\n",
    "\n",
    "  g. ...\n",
    "\n",
    "  h. Write Output to File: Write all the results (original inputs, modified data structures, type conversion results) to a file.\n",
    "\n",
    "  i. Perform Operations on File: Open the file, read its content, and perform some operations like counting the number of lines, finding specific data, etc.\n",
    "\n",
    "  j. Modify File Content: Modify the content of the file by, for example, changing specific lines or adding new lines."
   ],
   "metadata": {
    "id": "KVn_MxPh6gNz"
   }
  },
  {
   "cell_type": "code",
   "source": [
    "# Input\n",
    "input_numbers = input(\"Enter a series of space-separated integers: \")\n",
    "\n",
    "# Convert Input\n",
    "numbers_list = list(map(int, input_numbers.split()))\n",
    "numbers_tuple = tuple(numbers_list)\n",
    "# Manipulate List\n",
    "numbers_list.append(10)\n",
    "numbers_list.append(8)\n",
    "numbers_list.insert(2, 20)\n",
    "numbers_list.remove(8)\n",
    "# Attempt to Modify Tuple (this will raise an error)\n",
    "try:\n",
    "    numbers_tuple.append(10)\n",
    "except AttributeError:\n",
    "    print(\"Tuples are immutable and cannot be modified.\")\n",
    "\n",
    "# Set Operations\n",
    "set1 = {1, 2, 5, 9, 10}\n",
    "set2 = {5, 8, 11, 12}\n",
    "numbers_set = set1.union(set2)\n",
    "set_union = set1.union(set2)\n",
    "set_intersection = set1.intersection(set2)\n",
    "set_difference = set1.difference(set2)\n",
    "# Dictionary Operations\n",
    "numbers_dict = {5: 25, 2: 4, 8: 64, 1: 1, 9: 81}\n",
    "print(\"Original Dictionary:\", numbers_dict)\n",
    "numbers_dict[11] = 121\n",
    "del numbers_dict[8]\n",
    "# Type Conversion\n",
    "list_to_tuple = tuple(numbers_list)\n",
    "list_to_set = set(numbers_list)\n",
    "list_to_dict = dict(zip(numbers_list, [x**2 for x in numbers_list]))\n",
    "\n",
    "tuple_to_list = list(numbers_tuple)\n",
    "tuple_to_set = set(numbers_tuple)\n",
    "tuple_to_dict = dict(zip(numbers_tuple, [x**2 for x in numbers_tuple]))\n",
    "\n",
    "set_to_list = list(set_union)\n",
    "set_to_tuple = tuple(set_union)\n",
    "set_to_dict = dict(zip(set_union, [x**2 for x in set_union]))\n",
    "\n",
    "dict_to_list = list(numbers_dict.keys())\n",
    "dict_to_tuple = tuple(numbers_dict.keys())\n",
    "dict_to_set = set(numbers_dict.keys())\n",
    "student_number = input(\"Enter your student number: \")\n",
    "\n",
    "# Write Output to File like this:\n",
    "\"Student Number: \" + student_number\n",
    "\"Original List: \" + str(numbers_list)\n",
    "\"Original Tuple: \" + str(numbers_tuple)\n",
    "\"Original Set: \" + str(numbers_set)\n",
    "\"Original Dictionary: \" + str(numbers_dict)\n",
    "\n",
    "\"Manipulated List: \" + str(numbers_list)\n",
    "\"Manipulated Tuple: \" + str(numbers_tuple)\n",
    "\"Union of Set: \" + str(set_union)\n",
    "\"Intersection of Set: \" + str(set_intersection)\n",
    "\"Difference of Set: \" + str(set_difference)\n",
    "\"Updated Dictionary: \" + str(numbers_dict)\n",
    "\"List to Tuple: \" + str(list_to_tuple)\n",
    "\"List to Set: \" + str(list_to_set)\n",
    "\"List to Dictionary: \" + str(list_to_dict)\n",
    "\"Tuple to List: \" + str(tuple_to_list)\n",
    "\"Tuple to Set: \" + str(tuple_to_set)\n",
    "\"Tuple to Dictionary: \" + str(tuple_to_dict)\n",
    "\"Set to List: \" + str(set_to_list)\n",
    "\"Set to Tuple: \" + str(set_to_tuple)\n",
    "\"Set to Dictionary: \" + str(set_to_dict)\n",
    "\"Dictionary to List: \" + str(dict_to_list)\n",
    "\"Dictionary to Tuple: \" + str(dict_to_tuple)\n",
    "\"Dictionary to Set: \" + str(dict_to_set)\n",
    "\n",
    "# print \"Content of the file:\"\n",
    "filename = \"sample.txt\"\n",
    "with open(filename, 'r') as file:\n",
    "    file_content = file.read()\n",
    "print(\"Content of the file:\")\n",
    "print(file_content)\n",
    "# Perform Operations on File:\n",
    "#   Count the number of lines in the file\n",
    "def count_lines(filename):\n",
    "    with open(filename, 'r') as file:\n",
    "        lines = file.readlines()\n",
    "    return len(lines)\n",
    "#   Count the number of integers in the file\n",
    "def count_integers(filename):\n",
    "    with open(filename, 'r') as file:\n",
    "        content = file.read()\n",
    "    integers = [int(word) for word in content.split() if word.isdigit()]\n",
    "    return len(integers)\n",
    "#   Add all integers in the file (sum).\n",
    "def sum_integers(filename):\n",
    "    with open(filename, 'r') as file:\n",
    "        content = file.read()\n",
    "    integers = [int(word) for word in content.split() if word.isdigit()]\n",
    "    return sum(integers)\n",
    "#   Modify the content of the file\n",
    "def modify_file(filename, new_content):\n",
    "    with open(filename, 'w') as file:\n",
    "        file.write(new_content)\n",
    "\n",
    "line_count = count_lines(filename)\n",
    "integer_count = count_integers(filename)\n",
    "integer_sum = sum_integers(filename)\n",
    "\n",
    "# Simulate content of the file for demonstration\n",
    " # Count lines, integers, and calculate sum\n",
    "print(\"\\nNumber of lines in the file:\", line_count)\n",
    "print(\"Number of integers in the file:\", integer_count)\n",
    "print(\"Sum of integers in the file:\", integer_sum)\n",
    "# Simulate modifying the content\n",
    "new_content = \"This is the modified content.\"\n",
    "modify_file(filename, new_content)\n",
    "print(\"\\nFile content has been modified.\")"
   ],
   "metadata": {
    "id": "d54la3il7LNS",
    "ExecuteTime": {
     "end_time": "2024-03-13T18:03:28.136599Z",
     "start_time": "2024-03-13T18:03:19.547295Z"
    }
   },
   "execution_count": 6,
   "outputs": [
    {
     "name": "stdout",
     "output_type": "stream",
     "text": [
      "Tuples are immutable and cannot be modified.\n",
      "Original Dictionary: {5: 25, 2: 4, 8: 64, 1: 1, 9: 81}\n"
     ]
    },
    {
     "ename": "FileNotFoundError",
     "evalue": "[Errno 2] No such file or directory: 'sample.txt'",
     "output_type": "error",
     "traceback": [
      "\u001B[0;31m---------------------------------------------------------------------------\u001B[0m",
      "\u001B[0;31mFileNotFoundError\u001B[0m                         Traceback (most recent call last)",
      "Cell \u001B[0;32mIn[6], line 76\u001B[0m\n\u001B[1;32m     74\u001B[0m \u001B[38;5;66;03m# print \"Content of the file:\"\u001B[39;00m\n\u001B[1;32m     75\u001B[0m filename \u001B[38;5;241m=\u001B[39m \u001B[38;5;124m\"\u001B[39m\u001B[38;5;124msample.txt\u001B[39m\u001B[38;5;124m\"\u001B[39m\n\u001B[0;32m---> 76\u001B[0m \u001B[38;5;28;01mwith\u001B[39;00m \u001B[38;5;28;43mopen\u001B[39;49m\u001B[43m(\u001B[49m\u001B[43mfilename\u001B[49m\u001B[43m,\u001B[49m\u001B[43m \u001B[49m\u001B[38;5;124;43m'\u001B[39;49m\u001B[38;5;124;43mr\u001B[39;49m\u001B[38;5;124;43m'\u001B[39;49m\u001B[43m)\u001B[49m \u001B[38;5;28;01mas\u001B[39;00m file:\n\u001B[1;32m     77\u001B[0m     file_content \u001B[38;5;241m=\u001B[39m file\u001B[38;5;241m.\u001B[39mread()\n\u001B[1;32m     78\u001B[0m \u001B[38;5;28mprint\u001B[39m(\u001B[38;5;124m\"\u001B[39m\u001B[38;5;124mContent of the file:\u001B[39m\u001B[38;5;124m\"\u001B[39m)\n",
      "File \u001B[0;32m/Library/Frameworks/Python.framework/Versions/3.10/lib/python3.10/site-packages/IPython/core/interactiveshell.py:324\u001B[0m, in \u001B[0;36m_modified_open\u001B[0;34m(file, *args, **kwargs)\u001B[0m\n\u001B[1;32m    317\u001B[0m \u001B[38;5;28;01mif\u001B[39;00m file \u001B[38;5;129;01min\u001B[39;00m {\u001B[38;5;241m0\u001B[39m, \u001B[38;5;241m1\u001B[39m, \u001B[38;5;241m2\u001B[39m}:\n\u001B[1;32m    318\u001B[0m     \u001B[38;5;28;01mraise\u001B[39;00m \u001B[38;5;167;01mValueError\u001B[39;00m(\n\u001B[1;32m    319\u001B[0m         \u001B[38;5;124mf\u001B[39m\u001B[38;5;124m\"\u001B[39m\u001B[38;5;124mIPython won\u001B[39m\u001B[38;5;124m'\u001B[39m\u001B[38;5;124mt let you open fd=\u001B[39m\u001B[38;5;132;01m{\u001B[39;00mfile\u001B[38;5;132;01m}\u001B[39;00m\u001B[38;5;124m by default \u001B[39m\u001B[38;5;124m\"\u001B[39m\n\u001B[1;32m    320\u001B[0m         \u001B[38;5;124m\"\u001B[39m\u001B[38;5;124mas it is likely to crash IPython. If you know what you are doing, \u001B[39m\u001B[38;5;124m\"\u001B[39m\n\u001B[1;32m    321\u001B[0m         \u001B[38;5;124m\"\u001B[39m\u001B[38;5;124myou can use builtins\u001B[39m\u001B[38;5;124m'\u001B[39m\u001B[38;5;124m open.\u001B[39m\u001B[38;5;124m\"\u001B[39m\n\u001B[1;32m    322\u001B[0m     )\n\u001B[0;32m--> 324\u001B[0m \u001B[38;5;28;01mreturn\u001B[39;00m \u001B[43mio_open\u001B[49m\u001B[43m(\u001B[49m\u001B[43mfile\u001B[49m\u001B[43m,\u001B[49m\u001B[43m \u001B[49m\u001B[38;5;241;43m*\u001B[39;49m\u001B[43margs\u001B[49m\u001B[43m,\u001B[49m\u001B[43m \u001B[49m\u001B[38;5;241;43m*\u001B[39;49m\u001B[38;5;241;43m*\u001B[39;49m\u001B[43mkwargs\u001B[49m\u001B[43m)\u001B[49m\n",
      "\u001B[0;31mFileNotFoundError\u001B[0m: [Errno 2] No such file or directory: 'sample.txt'"
     ]
    }
   ]
  },
  {
   "cell_type": "markdown",
   "source": [
    "--------------------------------------------------------------------------------\n",
    "**Control Statements:**\n",
    "Control statements are used in programming to alter the flow of execution based on certain conditions or criteria. In Python, commonly used control statements include:\n",
    "\n",
    "`if, elif, else:` These statements are used for conditional execution. They allow the program to execute different blocks of code based on specified conditions.\n",
    "\n",
    "`for loop:` Used for iterating over a sequence (such as lists, tuples, strings, etc.) or any iterable object. It allows you to execute a block of code repeatedly for each item in the sequence.\n",
    "\n",
    "`while loop:` Used for executing a block of code repeatedly as long as a specified condition is true. It keeps iterating until the condition becomes false.\n",
    "\n",
    "\n",
    "**Loops:**\n",
    "Loops are used for executing a block of code repeatedly. In Python, there are two main types of loops:\n",
    "\n",
    "`for loop: `As mentioned earlier, the for loop iterates over a sequence or any iterable object.\n",
    "\n",
    "`while loop:` This loop executes a block of code as long as a specified condition is true. It continues iterating until the condition becomes false.\n",
    "\n",
    "**Other Statements:**\n",
    "This category typically includes other types of statements that don't fall directly under control statements or loops. It can include various types of statements used for different purposes in Python programming, such as:\n",
    "\n",
    "`Assignment statements:` Assigning values to variables.\n",
    "\n",
    "`Function calls:` Invoking functions to perform specific tasks.\n",
    "\n",
    "`Import statements:` Importing modules or packages to use their functionality in the current script or program.\n",
    "\n",
    "`Exception handling statements: `Statements used for handling exceptions (errors) that may occur during the execution of a program, such as try, except, finally, etc.\n",
    "\n",
    "`With statements: `Used for resource management, especially for working with files, to ensure that certain resources are properly closed or released after use.\n",
    "\n",
    "These are fundamental constructs in Python programming that enable you to control the flow of your program, repeat tasks efficiently, and execute various types of statements to achieve desired functionality.\n",
    "\n",
    "-------------------------------------------------------------------------------"
   ],
   "metadata": {
    "id": "kDx3mxAgD2L7"
   }
  },
  {
   "cell_type": "markdown",
   "source": [
    "9.  Utilizing the Largest Integer from output.txt\n",
    "\n",
    "  Task Description:\n",
    "\n",
    "  Transform the previous task to utilize the largest integer from the output file 'output.txt' instead of asking the user for it.\n",
    "\n",
    "  1. Read the largest integer from the 'output.txt' file.\n",
    "  2. Generate a list of all prime numbers up to the largest integer.\n",
    "  3. Print the list of prime numbers.\n",
    "  4. Calculate the sum of all prime numbers in the list.\n",
    "  5. Determine the largest and smallest prime numbers in the list.\n",
    "  6. Check if the largest integer itself is prime and print the result.\n",
    "  7. Write the list of prime numbers along with the sum, largest, and smallest prime numbers to a file 'prime_numbers.txt'.\n",
    "  8. Handle the scenario where the largest integer cannot be found in the file.\n",
    "\n",
    "  Example:\n",
    "\n",
    "  If the 'output.txt' file contains:\n",
    "  Largest prime number: 20\n",
    "\n",
    "  The program will generate the list of prime numbers up to 20, perform calculations, and write the results to 'prime_numbers.txt'.\n"
   ],
   "metadata": {
    "id": "pWC3IYevHysh"
   }
  },
  {
   "cell_type": "code",
   "source": [
    "import os\n",
    "\n",
    "# Function to read the largest integer from the file\n",
    "def read_largest_integer(filename):\n",
    "    if not os.path.exists(filename):\n",
    "        raise FileNotFoundError(f\"'{filename}' not found.\")\n",
    "    with open(filename, 'r') as file:\n",
    "        for line in file:\n",
    "            if line.startswith(\"Largest prime number:\"):\n",
    "                return int(line.split(\":\")[1].strip())\n",
    "\n",
    "# Function to check if a number is prime\n",
    "def is_prime(num):\n",
    "    if num < 2:\n",
    "        return False\n",
    "    for i in range(2, int(num ** 0.5) + 1):\n",
    "        if num % i == 0:\n",
    "            return False\n",
    "    return True\n",
    "\n",
    "# Function to generate a list of prime numbers up to a given integer\n",
    "def generate_prime_list(max_num):\n",
    "    primes = []\n",
    "    for num in range(2, max_num + 1):\n",
    "        if is_prime(num):\n",
    "            primes.append(num)\n",
    "    return primes\n",
    "\n",
    "# Function to write results to a file\n",
    "def write_to_file(filename, primes, prime_sum, largest_prime, smallest_prime, is_largest_prime):\n",
    "    with open(filename, 'w') as file:\n",
    "        file.write(\"List of Prime Numbers:\\n\")\n",
    "        for prime in primes:\n",
    "            file.write(str(prime) + '\\n')\n",
    "        file.write(\"\\nSum of Prime Numbers: \" + str(prime_sum) + '\\n')\n",
    "        file.write(\"Largest Prime Number: \" + str(largest_prime) + '\\n')\n",
    "        file.write(\"Smallest Prime Number: \" + str(smallest_prime) + '\\n')\n",
    "        file.write(\"Is the largest integer prime?: \" + str(is_largest_prime) + '\\n')\n",
    "\n",
    "# Main function\n",
    "def main():\n",
    "    try:\n",
    "        largest_integer = read_largest_integer(\"output.txt\")\n",
    "        prime_list = generate_prime_list(largest_integer)\n",
    "        prime_sum = sum(prime_list)\n",
    "        largest_prime = max(prime_list)\n",
    "        smallest_prime = min(prime_list)\n",
    "        is_largest_prime = is_prime(largest_integer)\n",
    "        write_to_file(\"prime_numbers.txt\", prime_list, prime_sum, largest_prime, smallest_prime, is_largest_prime)\n",
    "        print(\"List of prime numbers has been generated and written to 'prime_numbers.txt'.\")\n",
    "    except FileNotFoundError as e:\n",
    "        print(e)\n",
    "\n",
    "# Execute main function\n",
    "if __name__ == \"__main__\":\n",
    "    main()\n"
   ],
   "metadata": {
    "id": "-Lz65OTiM7ds",
    "ExecuteTime": {
     "end_time": "2024-03-13T18:09:27.439481Z",
     "start_time": "2024-03-13T18:09:27.431725Z"
    }
   },
   "execution_count": 8,
   "outputs": [
    {
     "name": "stdout",
     "output_type": "stream",
     "text": [
      "'output.txt' not found.\n"
     ]
    }
   ]
  },
  {
   "cell_type": "markdown",
   "source": [
    "10.\n",
    "In the final main.ipynb file, leave the results from task 8 and 9, commit and push"
   ],
   "metadata": {
    "id": "V5bxEjZFNCAA"
   }
  }
 ]
}
